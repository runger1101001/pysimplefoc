{
 "cells": [
  {
   "cell_type": "markdown",
   "id": "f7f7a946-e281-4a77-af9d-0e9eacb7c64d",
   "metadata": {},
   "source": [
    "# Calibration Example\n",
    "\n",
    "Example for using PySimpleFOC python API.\n",
    "\n",
    "This example can be used to compute and plot motor calibration values.\n",
    "To use it, your SimpleFOC code has to include support for packet based IO and telemetry.\n",
    "\n",
    "The code controls the motor in open loop mode. Ideally, the arduino code should run the initFOC() method to determine the correct motor orientation, and this notebook will read it from the driver. Alternatively you can set the direction in advance using parameter below.\n",
    "\n",
    "A simple sketch compatible with this notebook can be found here TODO link to sample!\n",
    "\n",
    "\n",
    "## Imports and Constants\n",
    "\n",
    "Change the constants below to control the experiments parameters."
   ]
  },
  {
   "cell_type": "code",
   "execution_count": null,
   "id": "81b99462-2a40-4e20-896e-b90b3ccb6007",
   "metadata": {},
   "outputs": [],
   "source": [
    "%matplotlib ipympl\n",
    "import matplotlib.pyplot as plt\n",
    "from IPython.display import display, clear_output\n",
    "import serial, time, math\n",
    "import numpy as np\n",
    "import simplefoc, simplefoc.packets\n",
    "from simplefoc.registers import SimpleFOCRegisters as regs\n",
    "from rx import operators as ops\n",
    "\n",
    "PORT=\"/dev/cu.usbmodem1441103\"\n",
    "BAUD=921600*2\n",
    "PROTOCOL=simplefoc.packets.ProtocolType.ascii\n",
    "\n",
    "ROTATIONS=5\n",
    "VOLTAGE=4.0\n",
    "POLE_PAIRS=11\n",
    "VELOCITY=3.14\n",
    "DOWNSAMPLE=4\n",
    "DIRECTION=simplefoc.Direction.UNKNOWN\n",
    "\n",
    "_2PI = 2.0 * math.pi\n",
    "_3PI_2 = 3.0 * math.pi / 2.0"
   ]
  },
  {
   "cell_type": "markdown",
   "id": "6c5c6e81-af08-4b87-a5eb-ed59d1392be4",
   "metadata": {},
   "source": [
    "## Setup\n",
    "Run this once."
   ]
  },
  {
   "cell_type": "code",
   "execution_count": null,
   "id": "f4e542d1-b2d1-433c-ad4c-817c98aba920",
   "metadata": {},
   "outputs": [],
   "source": [
    "sf = simplefoc.packets.serial(PORT, BAUD, PROTOCOL)\n",
    "sf.connect()\n",
    "tele = sf.telemetry()\n",
    "tele.set_registers([regs.REG_ANGLE, regs.REG_POSITION],[1,1])\n",
    "motor = sf.motor(1)\n",
    "motor.set_mode(simplefoc.MotionControlType.velocity_openloop, simplefoc.TorqueControlType.voltage)\n",
    "motor.set_register(regs.REG_ZERO_OFFSET, 0)\n",
    "motor.set_register(regs.REG_ZERO_ELECTRIC_ANGLE, 0)\n",
    "motor.set_limits(max_voltage=VOLTAGE)\n",
    "if DIRECTION == simplefoc.Direction.UNKNOWN:\n",
    "    direction = motor.get_register(regs.REG_SENSOR_DIRECTION)\n",
    "    if direction>1:\n",
    "        direction = -1\n",
    "    DIRECTION = simplefoc.Direction(int(direction))\n",
    "    print(\"Direction read from motor: \", DIRECTION.name)\n",
    "\n",
    "limit = (ROTATIONS + 1.5) * _2PI\n",
    "crossing_val = _3PI_2 if DIRECTION==simplefoc.Direction.CW else (-_3PI_2+_2PI)\n",
    "\n",
    "def compute_el(x):\n",
    "    el = (x.values[0] * POLE_PAIRS * DIRECTION.value) % _2PI\n",
    "    if el<0:\n",
    "        el += _2PI\n",
    "    x.values.append(el)\n",
    "    if x.values[1] >= (2**31):\n",
    "        x.values[1] -= (2**32)\n",
    "    return x.values\n",
    "\n",
    "def transform_telemetry(w):\n",
    "    if DIRECTION==simplefoc.Direction.CW:\n",
    "        crossing = ((w[0][3] <= crossing_val and w[1][3] >= crossing_val) or (w[1][3] <= crossing_val and w[2][3] >= crossing_val))\n",
    "    else:\n",
    "        crossing = ((w[0][3] >= crossing_val and w[1][3] <= crossing_val) or (w[1][3] >= crossing_val and w[2][3] <= crossing_val))\n",
    "    result = [\n",
    "        w[1][1], # measured rotation\n",
    "        w[1][0], # open loop angle\n",
    "        w[1][2], # measured mechanical angle\n",
    "        w[1][3], # electrical angle\n",
    "        1 if crossing else 0, # 1 if this is (next to) a zero-crossing\n",
    "    ]\n",
    "    return result"
   ]
  },
  {
   "cell_type": "markdown",
   "id": "9a24fb6a-0dd2-4ecd-ad90-108a1539ab9d",
   "metadata": {},
   "source": [
    "## Data collection\n",
    "\n",
    "Run to collect data."
   ]
  },
  {
   "cell_type": "code",
   "execution_count": null,
   "id": "53171aca-b5ee-489b-83b1-bae9b5882229",
   "metadata": {},
   "outputs": [],
   "source": [
    "print(\"Collecting data at velocity\", VELOCITY, \"for\", ROTATIONS, \"rotations.\")\n",
    "print(\"This will take about\", limit/VELOCITY, \"seconds\")\n",
    "\n",
    "motor.enable()\n",
    "motor.set_target(VELOCITY)\n",
    "tele.set_downsample(DOWNSAMPLE)\n",
    "\n",
    "data = []\n",
    "\n",
    "try:\n",
    "    data = tele.observable().pipe(\n",
    "        ops.map(lambda x: compute_el(x)),\n",
    "        ops.take_while(lambda x: abs(x[1]*_2PI + x[2])<limit),\n",
    "        ops.buffer_with_count(3,1),\n",
    "        ops.filter(lambda x: len(x)==3),\n",
    "        ops.map(lambda x: transform_telemetry(x)),\n",
    "        ops.filter(lambda x: (abs(x[0])>=1 and abs(x[0])<=ROTATIONS)),\n",
    "        ops.to_list(),\n",
    "        ops.timeout(limit/VELOCITY*1.5)\n",
    "    ).run()\n",
    "finally:\n",
    "    motor.set_target(0.0)\n",
    "    tele.set_downsample(10000)\n",
    "    motor.disable()\n",
    "\n",
    "\n",
    "if len(data) < 1000:\n",
    "    print(\"Not enough data collected.\")\n",
    "else:\n",
    "    print(\"Collected\", len(data), \"samples\")\n",
    "    print(len(data)/ROTATIONS, \"samples per rotation\")\n",
    "    print((ROTATIONS*360)/len(data), \"degrees rotation per sample\")"
   ]
  },
  {
   "cell_type": "markdown",
   "id": "19c9bc0e-5962-40bf-adef-c255f8b9f5e9",
   "metadata": {},
   "source": [
    "## Plot zero crossings\n",
    "\n",
    "The electrical zero crossings, shown plotted against the sensor's full rotation."
   ]
  },
  {
   "cell_type": "code",
   "execution_count": null,
   "id": "f6a9c387-dfa1-4a78-8030-0427c4eb5231",
   "metadata": {},
   "outputs": [],
   "source": [
    "linetheta = []\n",
    "for i in range(0, len(data)):\n",
    "    if data[i][4] == 1:\n",
    "        linetheta.append(data[i][2])\n",
    "fig, ax = plt.subplots(subplot_kw={'projection': 'polar'})\n",
    "ax.grid(True, axis='x')\n",
    "ax.grid(False, axis='y')\n",
    "ax.set_rmax(6)\n",
    "ax.set_rmin(0)\n",
    "ax.set_theta_zero_location('N')\n",
    "ax.set_title(\"Zero crossings\", va='bottom')\n",
    "ax.vlines(linetheta, 4, 5)\n",
    "plt.show()"
   ]
  },
  {
   "cell_type": "markdown",
   "id": "1bfd8525-fdeb-4550-af35-0738f4855126",
   "metadata": {},
   "source": [
    "## Plot zero crossings\n",
    "**Mapped to the first electrical revolution**\n",
    "\n",
    "The electrical zero crossings, all mapped to the first electrical revolution, and the average. Use this average as your electrical zero calibration value."
   ]
  },
  {
   "cell_type": "code",
   "execution_count": null,
   "id": "583f566a-e889-4143-aa67-630440b4b4d1",
   "metadata": {},
   "outputs": [],
   "source": [
    "linetheta2 = np.array(linetheta) % (_2PI / POLE_PAIRS)\n",
    "avg = np.mean(linetheta2)\n",
    "min = np.min(linetheta2)\n",
    "max = np.max(linetheta2)\n",
    "avg_deg = -avg/_2PI*360\n",
    "fig, ax = plt.subplots(subplot_kw={'projection': 'polar'})\n",
    "ax.set_rmax(6)\n",
    "ax.set_rmin(0)\n",
    "ax.grid(True, axis='x')\n",
    "ax.grid(False, axis='y')\n",
    "diff = abs( np.max([avg - min, max - avg]) ) * 1.25 * 360 / _2PI\n",
    "if diff < 22.5:\n",
    "    diff = 22.5\n",
    "ax.set_thetamin(-avg_deg-diff)\n",
    "ax.set_thetamax(-avg_deg+diff)\n",
    "ax.set_theta_zero_location('N', avg_deg)\n",
    "ax.set_title(\"Zero crossings\", va='bottom')\n",
    "ax.vlines(linetheta2, 4, 5)\n",
    "plt.show()\n",
    "print(\"motor.zero_electric_angle={}f;\".format(avg))\n",
    "print(\"motor.sensor_direction=Direction::\"+DIRECTION.name+\";\")"
   ]
  },
  {
   "cell_type": "markdown",
   "id": "aab6a873-22a4-4493-9ef8-a9c486bf8ca4",
   "metadata": {},
   "source": [
    "## Plot linearity\n",
    "\n",
    "Plots the measured sensor position (y axis) against the commanded open-loop angle."
   ]
  },
  {
   "cell_type": "code",
   "execution_count": null,
   "id": "5d6d5ca1-ac71-4933-b43b-693da217bb2b",
   "metadata": {},
   "outputs": [],
   "source": [
    "xdata = []\n",
    "ydata = []\n",
    "curseries = -1\n",
    "for i in range(0, len(data)):\n",
    "    if i==0 or data[i][0] != data[i-1][0]:\n",
    "        curseries += 1\n",
    "        adj = 0\n",
    "        xdata.append([])\n",
    "        ydata.append([])\n",
    "    x = data[i][1]\n",
    "    if i>0 and abs(x - data[i-1][1])>math.pi:\n",
    "        adj += _2PI if data[i-1][1]>x else -_2PI\n",
    "    xdata[curseries].append(x+adj)\n",
    "    ydata[curseries].append(data[i][2])\n",
    "fig, ax = plt.subplots()\n",
    "for i in range(0, curseries+1):\n",
    "    ax.plot(xdata[i], ydata[i])\n",
    "#plt.set_title(\"Linearity\", va='bottom')\n",
    "plt.show()"
   ]
  }
 ],
 "metadata": {
  "kernelspec": {
   "display_name": "Python 3 (ipykernel)",
   "language": "python",
   "name": "python3"
  },
  "language_info": {
   "codemirror_mode": {
    "name": "ipython",
    "version": 3
   },
   "file_extension": ".py",
   "mimetype": "text/x-python",
   "name": "python",
   "nbconvert_exporter": "python",
   "pygments_lexer": "ipython3",
   "version": "3.11.6"
  }
 },
 "nbformat": 4,
 "nbformat_minor": 5
}
